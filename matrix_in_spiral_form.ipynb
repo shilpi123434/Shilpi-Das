{
  "nbformat": 4,
  "nbformat_minor": 0,
  "metadata": {
    "colab": {
      "name": "matrix in spiral form.ipynb",
      "provenance": [],
      "collapsed_sections": [],
      "authorship_tag": "ABX9TyN+y9FQDy8UaRJUyJvSxbIh",
      "include_colab_link": true
    },
    "kernelspec": {
      "name": "python3",
      "display_name": "Python 3"
    },
    "language_info": {
      "name": "python"
    }
  },
  "cells": [
    {
      "cell_type": "markdown",
      "metadata": {
        "id": "view-in-github",
        "colab_type": "text"
      },
      "source": [
        "<a href=\"https://colab.research.google.com/github/shilpi123434/Shilpi-Das/blob/master/matrix_in_spiral_form.ipynb\" target=\"_parent\"><img src=\"https://colab.research.google.com/assets/colab-badge.svg\" alt=\"Open In Colab\"/></a>"
      ]
    },
    {
      "cell_type": "code",
      "metadata": {
        "id": "9cR4b0TOFQiL"
      },
      "source": [
        ""
      ],
      "execution_count": 4,
      "outputs": []
    },
    {
      "cell_type": "markdown",
      "metadata": {
        "id": "DJjCMWOvFd5S"
      },
      "source": [
        ""
      ]
    },
    {
      "cell_type": "code",
      "metadata": {
        "id": "xtJxfWjvFegU"
      },
      "source": [
        "\n",
        "def spiralPrint(a,b,c):\n",
        "  k=0\n",
        "  l=0\n",
        "  # k=starting row index\n",
        "  # a=ending row index\n",
        "  # l= starting column index\n",
        "  # b=ending column index\n",
        "  # c= matrix \n",
        "  # r= rows\n",
        "  # e= columns\n",
        "  # i= iterator \"\"\n",
        "  while(k<a and l<b):\n",
        "    for i in range(l,b):\n",
        "      print(c[i],end=\"\")\n",
        "      k+=1\n",
        "      for i in range(k,a):\n",
        "        print(c[i][b-1],end=\"\")\n",
        "        n-=1\n",
        "        if(k<a):\n",
        "          for i in range (b-1,(l-1),-1):\n",
        "            print(c[a-1][i],end=\"\")\n",
        "            m-=1\n",
        "            if(l<b):\n",
        "              for i in range(a-1,(k-1),-1):\n",
        "                l+=1\n",
        "                #driver code\n",
        "                c=[[1,2,3,4,5,6],[7,8,9,10,11,12],[13,14,15,16,17,18]]\n",
        "                r=3\n",
        "                e=6\n",
        "                spiralPrint(r,e,c)\n",
        "\n"
      ],
      "execution_count": 5,
      "outputs": []
    },
    {
      "cell_type": "code",
      "metadata": {
        "id": "DUvO9J_gJBed"
      },
      "source": [
        ""
      ],
      "execution_count": 5,
      "outputs": []
    }
  ]
}